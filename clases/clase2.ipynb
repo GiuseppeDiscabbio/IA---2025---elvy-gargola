{
  "nbformat": 4,
  "nbformat_minor": 0,
  "metadata": {
    "colab": {
      "provenance": [],
      "authorship_tag": "ABX9TyM87cyKNA1RK8bXAchveeEG",
      "include_colab_link": true
    },
    "kernelspec": {
      "name": "python3",
      "display_name": "Python 3"
    },
    "language_info": {
      "name": "python"
    }
  },
  "cells": [
    {
      "cell_type": "markdown",
      "metadata": {
        "id": "view-in-github",
        "colab_type": "text"
      },
      "source": [
        "<a href=\"https://colab.research.google.com/github/GiuseppeDiscabbio/IA---2025---elvy-gargola/blob/main/clases/clase2.ipynb\" target=\"_parent\"><img src=\"https://colab.research.google.com/assets/colab-badge.svg\" alt=\"Open In Colab\"/></a>"
      ]
    },
    {
      "cell_type": "code",
      "execution_count": 1,
      "metadata": {
        "colab": {
          "base_uri": "https://localhost:8080/"
        },
        "id": "vTw4nNCBKjcR",
        "outputId": "01fdcb83-2617-45dc-a11f-c0e297673c0d"
      },
      "outputs": [
        {
          "output_type": "stream",
          "name": "stdout",
          "text": [
            "rober esta en el 4to\n"
          ]
        }
      ],
      "source": [
        "'''\n",
        "ejercicio 1\n",
        "uso del print\n",
        "'''\n",
        "print(\"rober esta en el 4to\")"
      ]
    },
    {
      "cell_type": "code",
      "source": [
        "'''\n",
        "ejercicio 2\n",
        "uso del input\n",
        "'''\n",
        "# declaro la variable nombre\n",
        "nombre = \"\"\n",
        "# pido el nombre al usuario\n",
        "nombre = input(\"ingrese su nombre \")\n",
        "# presento en pantalla el nombre ingresado\n",
        "print(\"hola \" + nombre)"
      ],
      "metadata": {
        "colab": {
          "base_uri": "https://localhost:8080/"
        },
        "id": "KK4oBJwVMrkw",
        "outputId": "1f308719-9511-4b8c-e462-342e6ffe67dc"
      },
      "execution_count": 3,
      "outputs": [
        {
          "output_type": "stream",
          "name": "stdout",
          "text": [
            "ingrese su nombre Toquete\n",
            "hola Toquete\n"
          ]
        }
      ]
    },
    {
      "cell_type": "code",
      "source": [
        "'''\n",
        "ejercicio 3\n",
        "crear un programa que pida al usuario dos números y los sume y presente el resultado en la pantalla\n",
        "'''\n",
        "#pido el primer número al usuario\n",
        "n1 = int(input(\"ingrese el primer número \"))\n",
        "#pido el segundo número al usuario\n",
        "n2 = int(input(\"ingrese el segundo número \"))\n",
        "#calculo la suma y lo guardo en la variable suma\n",
        "suma = n1 + n2\n",
        "#mostramos el resultado\n",
        "print(\"n1 + n2 = \" + str(suma))"
      ],
      "metadata": {
        "colab": {
          "base_uri": "https://localhost:8080/"
        },
        "id": "Inn2qW4dR6_y",
        "outputId": "3850c579-d8b4-4cf6-8d03-1d79971762e6"
      },
      "execution_count": 7,
      "outputs": [
        {
          "output_type": "stream",
          "name": "stdout",
          "text": [
            "ingrese el primer número 5\n",
            "ingrese el segundo número 56\n",
            "n1 + n2 = 61\n"
          ]
        }
      ]
    },
    {
      "cell_type": "code",
      "source": [
        "'''\n",
        "ejercicio 4\n",
        "crear un programa que pida el nombre y la edad de una persona y los imprima en la pantalla\n",
        "'''\n",
        "#pido el nombre al usuario\n",
        "nombre = input(\"ingrese su nombre \")\n",
        "#pido la edad al usuario\n",
        "edad = input(\"ingrese su edad \")\n",
        "#imprimo en pantalla\n",
        "print(\"mi nombre es \" + nombre + \" y mi edad es \" + edad)"
      ],
      "metadata": {
        "colab": {
          "base_uri": "https://localhost:8080/"
        },
        "id": "i7gPTGTZWmqF",
        "outputId": "f48c4970-7fb6-4f0d-a395-486934bf6d80"
      },
      "execution_count": 8,
      "outputs": [
        {
          "output_type": "stream",
          "name": "stdout",
          "text": [
            "ingrese su nombre Mariano\n",
            "ingrese su edad 48\n",
            "mi nombre es Mariano y mi edad es 48\n"
          ]
        }
      ]
    }
  ]
}