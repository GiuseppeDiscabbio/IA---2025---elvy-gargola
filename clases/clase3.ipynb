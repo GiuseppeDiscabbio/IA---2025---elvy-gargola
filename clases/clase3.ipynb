{
  "nbformat": 4,
  "nbformat_minor": 0,
  "metadata": {
    "colab": {
      "provenance": [],
      "authorship_tag": "ABX9TyNCCsh2jcZ2fwPAlyQXiv+a",
      "include_colab_link": true
    },
    "kernelspec": {
      "name": "python3",
      "display_name": "Python 3"
    },
    "language_info": {
      "name": "python"
    }
  },
  "cells": [
    {
      "cell_type": "markdown",
      "metadata": {
        "id": "view-in-github",
        "colab_type": "text"
      },
      "source": [
        "<a href=\"https://colab.research.google.com/github/GiuseppeDiscabbio/IA---2025---elvy-gargola/blob/main/clases/clase3.ipynb\" target=\"_parent\"><img src=\"https://colab.research.google.com/assets/colab-badge.svg\" alt=\"Open In Colab\"/></a>"
      ]
    },
    {
      "cell_type": "code",
      "execution_count": 2,
      "metadata": {
        "colab": {
          "base_uri": "https://localhost:8080/"
        },
        "id": "84S0roapbwnJ",
        "outputId": "dfec1914-6a71-40f8-c732-3608c9a77da6"
      },
      "outputs": [
        {
          "output_type": "stream",
          "name": "stdout",
          "text": [
            "ingrese su nombre Mariano\n",
            "ingrese su edad 48\n",
            "Hola, soy Mariano y tengo 48 años\n"
          ]
        }
      ],
      "source": [
        "'''\n",
        "cadenas formateadas\n",
        "'''\n",
        "#ejercicio 1\n",
        "#pedimos al usuario su nombre y su edad\n",
        "nombre = input(\"ingrese su nombre \")\n",
        "edad = input(\"ingrese su edad \")\n",
        "#armamos una frase con el contenido de las variables\n",
        "#print(\"Hola, soy \" + nombre + \" y tengo \" + edad + \" años\")\n",
        "#hacemos lo mismo pero con cadenas formateadas\n",
        "print(f\"Hola, soy {nombre} y tengo {edad} años\")"
      ]
    },
    {
      "cell_type": "code",
      "source": [
        "'''\n",
        "ejercicio 2\n",
        "construimos un menú de entrada, plato principal y postre\n",
        "'''\n",
        "#pedimos al usuario que elija las comidas\n",
        "entrada = input(\"elija su entrada \")\n",
        "principal = input(\"elija su plato principal \")\n",
        "postre = input(\"elija el postre \")\n",
        "#pedimos que informe lo elegido con cadena formateada\n",
        "print(f\"Entrada: {entrada}, primer plato: {principal}, postre: {postre}\")"
      ],
      "metadata": {
        "colab": {
          "base_uri": "https://localhost:8080/"
        },
        "id": "y45a6SmhjJdi",
        "outputId": "53a89ebf-a375-42fa-8a68-81822e04c410"
      },
      "execution_count": 7,
      "outputs": [
        {
          "output_type": "stream",
          "name": "stdout",
          "text": [
            "elija su entrada empanada de verdura con dulce de membrillo\n",
            "elija su plato principal bondiola asada con ravioles de limón\n",
            "elija el postre helado de crema de cielo nublado con menta de las altas montañas del cuzco\n",
            "Entrada: empanada de verdura con dulce de membrillo, primer plato: bondiola asada con ravioles de limón, postre: helado de crema de cielo nublado con menta de las altas montañas del cuzco\n"
          ]
        }
      ]
    },
    {
      "cell_type": "code",
      "source": [
        "'''\n",
        "ejercicio 3\n",
        "cadenas formateadas con operaciones aritmeticas\n",
        "'''\n",
        "#pedimos al usuario que ingrese dos números\n",
        "n1 = int(input(\"ingrese el primer número n1 \"))\n",
        "n2 = int(input(\"ingrese el segundo número n2 \"))\n",
        "#hacemos la suma y la resta\n",
        "suma = n1 + n2\n",
        "resta = n1 - n2\n",
        "#mostramos en pantalla las cuentas\n",
        "#print(f\"n1 + n2 = {suma}\")\n",
        "#print(f\"n1 - n2 = {resta}\")\n",
        "print(f\"n1 + n2 = {n1 + n2}\")\n"
      ],
      "metadata": {
        "colab": {
          "base_uri": "https://localhost:8080/"
        },
        "id": "uWvDL0rBpdjA",
        "outputId": "bb1ba603-878c-4e38-a9f8-9369f8471987"
      },
      "execution_count": 11,
      "outputs": [
        {
          "output_type": "stream",
          "name": "stdout",
          "text": [
            "ingrese el primer número n1 34\n",
            "ingrese el segundo número n2 24\n",
            "n1 + n2 = 58\n"
          ]
        }
      ]
    }
  ]
}