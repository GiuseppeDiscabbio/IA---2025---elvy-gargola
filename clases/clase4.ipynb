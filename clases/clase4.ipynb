{
  "nbformat": 4,
  "nbformat_minor": 0,
  "metadata": {
    "colab": {
      "provenance": [],
      "authorship_tag": "ABX9TyPvuEWthDtQIzY2atx2ykyr",
      "include_colab_link": true
    },
    "kernelspec": {
      "name": "python3",
      "display_name": "Python 3"
    },
    "language_info": {
      "name": "python"
    }
  },
  "cells": [
    {
      "cell_type": "markdown",
      "metadata": {
        "id": "view-in-github",
        "colab_type": "text"
      },
      "source": [
        "<a href=\"https://colab.research.google.com/github/GiuseppeDiscabbio/IA---2025---elvy-gargola/blob/main/clases/clase4.ipynb\" target=\"_parent\"><img src=\"https://colab.research.google.com/assets/colab-badge.svg\" alt=\"Open In Colab\"/></a>"
      ]
    },
    {
      "cell_type": "code",
      "execution_count": 1,
      "metadata": {
        "colab": {
          "base_uri": "https://localhost:8080/"
        },
        "id": "jvPf0g3HZ5-A",
        "outputId": "3adef168-d4b8-4fb1-8fbd-882668686b0b"
      },
      "outputs": [
        {
          "output_type": "stream",
          "name": "stdout",
          "text": [
            "La probabilidad de encontrar un rey es 0.07692307692307693\n"
          ]
        }
      ],
      "source": [
        "'''\n",
        "ejercicio 1\n",
        "programa que calcule la probabilidad de extraer un rey de un mazo de baraja\n",
        " francesa en la primera extracción\n",
        "'''\n",
        "#defino una variable con la cantidad de cartas\n",
        "POS = 52\n",
        "#defino una variable con la cantidad de cartas de un mismo número\n",
        "FAV = 4\n",
        "#Calculo la probabilidad de extraer una carta de un cierto número\n",
        "p = FAV / POS\n",
        "print(f\"La probabilidad de encontrar un rey es {p}\")"
      ]
    },
    {
      "cell_type": "code",
      "source": [
        "'''\n",
        "ejercicio 2\n",
        "hacer un programa que solicite al usuario el precio de un curso de junin, la\n",
        "tasa de cambio y calcule el curso en dolares\n",
        "'''\n",
        "#pedimos al usuario que ingrese el precio del curso y la tasa de cambio\n",
        "curso = int(input(\"Ingrese el valor del curso_\"))\n",
        "tasa = int(input(\"Ingrese tasa de cambio u$s -> $ \"))\n",
        "#convertimos a la moneda estadounidense\n",
        "cursouSs = curso / tasa\n",
        "print(f\"El exorbitante precio de un curso junin es {cursouSs} u$s. Mejor veni a Brayket\")"
      ],
      "metadata": {
        "colab": {
          "base_uri": "https://localhost:8080/"
        },
        "id": "HOrCD4QlgMHU",
        "outputId": "75e8d60a-8a09-435c-e398-5eee2011d7c4"
      },
      "execution_count": 4,
      "outputs": [
        {
          "output_type": "stream",
          "name": "stdout",
          "text": [
            "Ingrese el valor del curso_580000\n",
            "Ingrese tasa de cambio u$s -> $ 1340\n",
            "El exorbitante precio de un curso junin es 432.8358208955224 u$s. Mejor veni a Brayket\n"
          ]
        }
      ]
    },
    {
      "cell_type": "code",
      "source": [
        "'''\n",
        "ejercicio3\n",
        "trabajo con cadenas (strings)\n",
        "Dada la cadena \"Rober está en el cuarto\" imprimir el primer caracter, la\n",
        "longitud de la cadena, el último caracter\n",
        "'''\n",
        "#definimos la cadena\n",
        "cadena = \"Rober está en el cuarto\"\n",
        "#hallamos primer caracter, longitud y ultimo caracter\n",
        "primero = cadena[0]\n",
        "longitud = len(cadena)\n",
        "ultimo = cadena[-1]\n",
        "#muestro las variables\n",
        "print(f\"el primer caracter es {primero}, el último caracter es {ultimo} y la cadena mide {longitud}\")"
      ],
      "metadata": {
        "colab": {
          "base_uri": "https://localhost:8080/"
        },
        "id": "qW-CphqTlmMR",
        "outputId": "357a32b5-3dea-4253-9dcd-f08e1eba2ccb"
      },
      "execution_count": 6,
      "outputs": [
        {
          "output_type": "stream",
          "name": "stdout",
          "text": [
            "el primer caracter es R, el último caracter es o y la cadena mide 23\n"
          ]
        }
      ]
    },
    {
      "cell_type": "code",
      "source": [
        "'''\n",
        "ejercicio 4 rangos en cadenas (slicing)\n",
        "'''\n",
        "#definimos una cadena\n",
        "deseo = \"Lo único que quiero es que Gonzalo sea feliz\"\n",
        "#seleccionamos de la cadena solamente Lo único\n",
        "print(deseo[:8])\n",
        "#seleccionamos único\n",
        "print(deseo[3:8])\n",
        "#seleccionamos que quiero es ....\n",
        "print(deseo[9:])\n",
        "#empezando del 1 quiero saltar de dos en dos\n",
        "print(deseo[1::2])\n"
      ],
      "metadata": {
        "colab": {
          "base_uri": "https://localhost:8080/"
        },
        "id": "xFTmp8EFtVsF",
        "outputId": "96a0683e-2cb2-4a6b-e961-f9a5a46ba865"
      },
      "execution_count": 12,
      "outputs": [
        {
          "output_type": "stream",
          "name": "stdout",
          "text": [
            "Lo único\n",
            "único\n",
            "que quiero es que Gonzalo sea feliz\n",
            "oúioqeqir sqeGnaosaflz\n"
          ]
        }
      ]
    },
    {
      "cell_type": "code",
      "source": [],
      "metadata": {
        "id": "VasTiZgN10yv"
      },
      "execution_count": null,
      "outputs": []
    }
  ]
}