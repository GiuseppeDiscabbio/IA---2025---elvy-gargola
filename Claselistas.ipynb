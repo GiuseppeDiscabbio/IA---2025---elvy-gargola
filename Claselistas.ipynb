{
  "nbformat": 4,
  "nbformat_minor": 0,
  "metadata": {
    "colab": {
      "provenance": [],
      "authorship_tag": "ABX9TyM8+OK3smZ7eRUTcZMvs9ZZ",
      "include_colab_link": true
    },
    "kernelspec": {
      "name": "python3",
      "display_name": "Python 3"
    },
    "language_info": {
      "name": "python"
    }
  },
  "cells": [
    {
      "cell_type": "markdown",
      "metadata": {
        "id": "view-in-github",
        "colab_type": "text"
      },
      "source": [
        "<a href=\"https://colab.research.google.com/github/GiuseppeDiscabbio/IA---2025---elvy-gargola/blob/main/Claselistas.ipynb\" target=\"_parent\"><img src=\"https://colab.research.google.com/assets/colab-badge.svg\" alt=\"Open In Colab\"/></a>"
      ]
    },
    {
      "cell_type": "code",
      "execution_count": 1,
      "metadata": {
        "colab": {
          "base_uri": "https://localhost:8080/"
        },
        "id": "S3N_xfv216Uj",
        "outputId": "40505749-dbf1-4965-88be-eec52b872d72"
      },
      "outputs": [
        {
          "output_type": "stream",
          "name": "stdout",
          "text": [
            "['mariano', 'roberto', 'ruben']\n"
          ]
        }
      ],
      "source": [
        "listaDeNombres=[\"mariano\",\"roberto\",\"ruben\"]\n",
        "print(listaDeNombres)\n"
      ]
    },
    {
      "cell_type": "code",
      "source": [
        "otraLista=[\"Rober\",\"Mariano\",\"Ruben\",\"Rober\"]\n",
        "print(len(otraLista))"
      ],
      "metadata": {
        "colab": {
          "base_uri": "https://localhost:8080/"
        },
        "id": "5w-VQt7H-YER",
        "outputId": "e8cc0831-0ca4-4833-87c4-8be288e772a6"
      },
      "execution_count": 2,
      "outputs": [
        {
          "output_type": "stream",
          "name": "stdout",
          "text": [
            "4\n"
          ]
        }
      ]
    },
    {
      "cell_type": "code",
      "source": [
        "listaCursos=[\"Química\",\"Física\",\"Matemática\"]\n",
        "print(listaCursos[0])\n",
        "print(listaCursos[1])\n",
        "print(listaCursos[-2])"
      ],
      "metadata": {
        "colab": {
          "base_uri": "https://localhost:8080/"
        },
        "id": "LWMWZ6BJ_Ljn",
        "outputId": "4db32f14-082a-438f-b602-50b00e8196ac"
      },
      "execution_count": 5,
      "outputs": [
        {
          "output_type": "stream",
          "name": "stdout",
          "text": [
            "Química\n",
            "Física\n",
            "Física\n"
          ]
        }
      ]
    },
    {
      "cell_type": "code",
      "source": [
        "listaDeViaje=[\"pasaporte\",\"dinero\",\"brújula\",\"maleta\",\"libro\"]\n",
        "print(listaDeViaje[1:4])\n",
        "print(listaDeViaje[:2])\n",
        "print(listaDeViaje[2:])"
      ],
      "metadata": {
        "colab": {
          "base_uri": "https://localhost:8080/"
        },
        "id": "x_kKZnA0Bor2",
        "outputId": "ea7a026f-c136-4ab3-aa73-916e139fda3c"
      },
      "execution_count": 9,
      "outputs": [
        {
          "output_type": "stream",
          "name": "stdout",
          "text": [
            "['dinero', 'brújula', 'maleta']\n",
            "['pasaporte', 'dinero']\n",
            "['brújula', 'maleta', 'libro']\n"
          ]
        }
      ]
    },
    {
      "cell_type": "code",
      "source": [
        "listaNombres=[\"ale\",\"ruben\",\"merifue\",\"elvy\"]\n",
        "listaNombres[3]=\"gonzi\"\n",
        "print(listaNombres)"
      ],
      "metadata": {
        "colab": {
          "base_uri": "https://localhost:8080/"
        },
        "id": "xyr05TiPFv3d",
        "outputId": "8d7b556f-73ff-40eb-db1e-21007ad644cd"
      },
      "execution_count": 10,
      "outputs": [
        {
          "output_type": "stream",
          "name": "stdout",
          "text": [
            "['ale', 'ruben', 'merifue', 'gonzi']\n"
          ]
        }
      ]
    },
    {
      "cell_type": "code",
      "source": [
        "listaColores=[\"rojo\",\"azul\",\"verde\",\"negro\"]\n",
        "listaColores.append(\"naranja\")\n",
        "print(listaColores)\n",
        "listaColores.remove(\"azul\")\n",
        "print(listaColores)\n",
        "listaColores.pop(1)\n",
        "print(listaColores)\n",
        "listaColores.pop()\n",
        "print(listaColores)"
      ],
      "metadata": {
        "colab": {
          "base_uri": "https://localhost:8080/"
        },
        "id": "PM7KdMnjIQ-l",
        "outputId": "41291557-e6d9-4561-f4f1-e12f43175c63"
      },
      "execution_count": 16,
      "outputs": [
        {
          "output_type": "stream",
          "name": "stdout",
          "text": [
            "['rojo', 'azul', 'verde', 'negro', 'naranja']\n",
            "['rojo', 'verde', 'negro', 'naranja']\n",
            "['rojo', 'negro', 'naranja']\n",
            "['rojo', 'negro']\n"
          ]
        }
      ]
    },
    {
      "cell_type": "code",
      "source": [
        "listaPersonajes=[\"micky\",\"violencia\",\"pizzeriahdp\",\"robertoquenedi\",\"robotril\"]\n",
        "for x in listaPersonajes:\n",
        "  print(x)"
      ],
      "metadata": {
        "colab": {
          "base_uri": "https://localhost:8080/"
        },
        "id": "BgS4S2q2OKaq",
        "outputId": "a3124c39-28e3-4b65-fcb4-e30b5993705e"
      },
      "execution_count": 17,
      "outputs": [
        {
          "output_type": "stream",
          "name": "stdout",
          "text": [
            "micky\n",
            "violencia\n",
            "pizzeriahdp\n",
            "robertoquenedi\n",
            "robotril\n"
          ]
        }
      ]
    },
    {
      "cell_type": "code",
      "source": [
        "listaBuchon=[\"Rober\",\"está\",\"en\",\"el\",\"cuarto\"]\n",
        "for x in listaBuchon:\n",
        "  print(x)"
      ],
      "metadata": {
        "colab": {
          "base_uri": "https://localhost:8080/"
        },
        "id": "Qe7lqNVePvvg",
        "outputId": "536545ab-7a02-41a9-91ba-45de993a561b"
      },
      "execution_count": 18,
      "outputs": [
        {
          "output_type": "stream",
          "name": "stdout",
          "text": [
            "Rober\n",
            "está\n",
            "en\n",
            "el\n",
            "cuarto\n"
          ]
        }
      ]
    },
    {
      "cell_type": "code",
      "source": [],
      "metadata": {
        "id": "YypwjRMIQdjq"
      },
      "execution_count": null,
      "outputs": []
    }
  ]
}